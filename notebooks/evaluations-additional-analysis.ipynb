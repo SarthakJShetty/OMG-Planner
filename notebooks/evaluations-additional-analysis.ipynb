{
 "cells": [
  {
   "cell_type": "code",
   "execution_count": 41,
   "id": "41154d1a",
   "metadata": {
    "scrolled": true
   },
   "outputs": [],
   "source": [
    "import numpy as np\n",
    "import os\n",
    "import pandas as pd\n",
    "from IPython.display import Image, display, HTML, Markdown, FileLink\n",
    "from pathlib import Path\n",
    "import matplotlib.pyplot as plt"
   ]
  },
  {
   "cell_type": "markdown",
   "id": "18281422",
   "metadata": {},
   "source": [
    "# Functions\n",
    "\n",
    "## For Quantitative Results"
   ]
  },
  {
   "cell_type": "code",
   "execution_count": 42,
   "id": "6da68628",
   "metadata": {
    "scrolled": false
   },
   "outputs": [],
   "source": [
    "def get_experiment_df(exp_path, multirun=True, exclude=None):\n",
    "    variant_dfs = []\n",
    "    for variant_dir in os.listdir(exp_path):\n",
    "        if '_bak' in variant_dir:\n",
    "            continue\n",
    "        if os.path.isfile(exp_path / variant_dir):\n",
    "            continue\n",
    "\n",
    "        # get runs inside each variant_dir \n",
    "        run_dirs = [run_dir for run_dir in os.listdir(exp_path / variant_dir)\n",
    "                if '.yaml' not in run_dir]\n",
    "        if len(run_dirs) == 0:\n",
    "            continue\n",
    "\n",
    "        # get metrics from each run\n",
    "        run_dfs = []\n",
    "        if multirun:\n",
    "            for run_dir in run_dirs:\n",
    "                run_df = pd.read_csv(exp_path / variant_dir / run_dir / 'metrics.csv')\n",
    "                if exclude is not None:\n",
    "                    run_df = run_df[~run_df['object_name'].isin([exclude])]\n",
    "                # Add run dir as another column\n",
    "                run_df['run'] = [run_dir for _ in range(len(run_df))]\n",
    "                run_dfs.append(run_df)\n",
    "        else:\n",
    "            run_df = pd.read_csv(exp_path / variant_dir / 'metrics.csv')\n",
    "            if exclude is not None:\n",
    "                run_df = run_df[~run_df['object_name'].isin([exclude])]\n",
    "            # Add run dir as another column\n",
    "            run_df['run'] = [variant_dir for _ in range(len(run_df))]\n",
    "            run_dfs.append(run_df)\n",
    "            \n",
    "        variant_df = pd.concat(run_dfs)\n",
    "        variant_dfs.append(variant_df)\n",
    "    exp_df = pd.concat(variant_dfs)\n",
    "    assert np.all(exp_df.isnull().sum() == 0) # assert no NaNs\n",
    "    return exp_df\n",
    "\n",
    "\n",
    "def get_unique_evaluation_scenes(exp_df):\n",
    "    # Get scenes\n",
    "    run_names = exp_df.run.unique()\n",
    "    evals = set()\n",
    "    for run_name in run_names:\n",
    "        eval_name = run_name.split('-')[0]\n",
    "        evals.add(eval_name)\n",
    "    return evals\n",
    "\n",
    "\n",
    "def get_htmls_mds(exp_df, evals):\n",
    "    htmls = []\n",
    "    mds = []\n",
    "    for eval_name in evals:\n",
    "        eval_df = exp_df.loc[exp_df['run'].str.contains(eval_name)]\n",
    "        eval_df = eval_df.drop('scene_idx', axis=1).groupby(['run'])\n",
    "        count = eval_df.count()['execution']\n",
    "        sub_max = count != count.max()\n",
    "        if sub_max.sum() > 0:\n",
    "            print(f\"Warning: {count.loc[sub_max].index[0]} only has {np.array(count.loc[sub_max])[0]} / {count.max()} trials\")\n",
    "        df = eval_df.mean().round(2).astype(str) + \" +/- \" + eval_df.std().round(1).astype(str)\n",
    "\n",
    "        htmls.append((eval_name, HTML(df.to_html())))\n",
    "        mds.append((eval_name, df.to_markdown()))\n",
    "    return htmls, mds\n",
    "\n",
    "    \n",
    "def get_experiment_results(exp_path, multirun=True, exclude=None):\n",
    "    exp_df = get_experiment_df(exp_path, multirun=multirun, exclude=exclude)\n",
    "    evals = get_unique_evaluation_scenes(exp_df)\n",
    "    htmls, mds = get_htmls_mds(exp_df, evals)\n",
    "    return exp_df, evals, htmls, mds\n",
    "    \n",
    "\n",
    "def print_htmls_mds(htmls, mds):\n",
    "    # Pretty print\n",
    "    for (eval_name, html) in htmls:\n",
    "#         display(Markdown(f'# {eval_name} evaluation'))\n",
    "        display(html)\n",
    "\n",
    "    # Print raw for pasting into Notion\n",
    "    for (eval_name, md) in mds:\n",
    "#         print(f\"# {eval_name} evaluation\")\n",
    "        print(md)\n",
    "        with open(exp_path / 'results.md', 'w') as f:\n",
    "            f.write(md)"
   ]
  },
  {
   "cell_type": "code",
   "execution_count": 43,
   "id": "d793c501",
   "metadata": {},
   "outputs": [],
   "source": [
    "def get_details(eval_name, variant, exp_df, success=False, num_samples=None, seed=0, show_gif=False):\n",
    "    # get success and failure cases for specific evals and variants\n",
    "    # Don't print all of them but get them manually for now, \n",
    "    # Since printing all of them is expensive\n",
    "    eval_df = exp_df.loc[exp_df['run'].str.contains(eval_name)]\n",
    "    variant_df = eval_df.loc[eval_df['run'].str.contains(f'-{variant}-')]\n",
    "    full_variant_name = variant_df['run'].iloc[0]\n",
    "    selection = variant_df['execution'] == success\n",
    "\n",
    "    # turn into gifs\n",
    "    success_df = variant_df.loc[selection]\n",
    "    paths = success_df[[\"object_name\", \"scene_idx\"]].apply(lambda x: \"_\".join([str(y) for y in x]), axis=1)\n",
    "\n",
    "    variant_path_list = list(exp_path.glob(f'*/{full_variant_name}'))\n",
    "    assert len(variant_path_list) == 1\n",
    "    variant_path = variant_path_list[0]\n",
    "\n",
    "    idxs = paths.index\n",
    "    if num_samples is not None:\n",
    "        np.random.seed(seed)\n",
    "        sampled_idxs = np.random.choice(idxs, size=num_samples, replace=False)\n",
    "    else:\n",
    "        sampled_idxs = idxs\n",
    "\n",
    "    # collision vs. no collision\n",
    "    tbl = np.zeros((1, 2), dtype=int)\n",
    "    \n",
    "    collisions_list = []\n",
    "    collision_grasp_costs = []\n",
    "    no_collision_grasp_costs = []\n",
    "    \n",
    "    ims = []\n",
    "    for idx in sampled_idxs:\n",
    "        # Load collision points\n",
    "        npz_path = variant_path / 'info' / f'{paths[idx]}.npz'\n",
    "        data = np.load(npz_path, allow_pickle=True)\n",
    "        num_collision_pts = data['info'][-1]['collide']\n",
    "        collisions_list.append(num_collision_pts)\n",
    "#         print(f\"Num collision points: {num_collision_pts}\")\n",
    "\n",
    "        # Get grasp cost\n",
    "        grasp_cost = data['info'][-1]['grasp']\n",
    "#         grasp_costs_list.append(grasp_cost)\n",
    "#         print(f\"Grasp cost: {grasp_cost:.6f}\")\n",
    "        \n",
    "        if num_collision_pts > 0:\n",
    "            collision_grasp_costs.append(grasp_cost)\n",
    "            col = 0\n",
    "        else:\n",
    "            no_collision_grasp_costs.append(grasp_cost)\n",
    "            col = 1\n",
    "        tbl[0,col] += 1\n",
    "        \n",
    "        # load gif\n",
    "        if show_gif:\n",
    "            path = variant_path / 'gifs' / f'{paths[idx]}.gif'\n",
    "            im = Image(open(path,'rb').read())\n",
    "            display(im)\n",
    "            ims.append(im)\n",
    "\n",
    "    df = pd.DataFrame(tbl, columns = ['collision', 'no collision'])\n",
    "    return ims, df, collisions_list, collision_grasp_costs, no_collision_grasp_costs"
   ]
  },
  {
   "cell_type": "markdown",
   "id": "e49b157b",
   "metadata": {},
   "source": [
    "# Results "
   ]
  },
  {
   "cell_type": "markdown",
   "id": "9c1a0651",
   "metadata": {},
   "source": [
    "## Experiment: 3obj learned acronym"
   ]
  },
  {
   "cell_type": "code",
   "execution_count": 44,
   "id": "70c7303f",
   "metadata": {
    "scrolled": false
   },
   "outputs": [
    {
     "data": {
      "image/png": "[encoded data removed]",
      "text/plain": [
       "<Figure size 432x288 with 1 Axes>"
      ]
     },
     "metadata": {
      "needs_background": "light"
     },
     "output_type": "display_data"
    },
    {
     "data": {
      "image/png": "[encoded data removed]",
      "text/plain": [
       "<Figure size 432x288 with 1 Axes>"
      ]
     },
     "metadata": {
      "needs_background": "light"
     },
     "output_type": "display_data"
    },
    {
     "data": {
      "image/png": "[encoded data removed]",
      "text/plain": [
       "<Figure size 432x288 with 1 Axes>"
      ]
     },
     "metadata": {
      "needs_background": "light"
     },
     "output_type": "display_data"
    },
    {
     "data": {
      "text/html": [
       "<div>\n",
       "<style scoped>\n",
       "    .dataframe tbody tr th:only-of-type {\n",
       "        vertical-align: middle;\n",
       "    }\n",
       "\n",
       "    .dataframe tbody tr th {\n",
       "        vertical-align: top;\n",
       "    }\n",
       "\n",
       "    .dataframe thead th {\n",
       "        text-align: right;\n",
       "    }\n",
       "</style>\n",
       "<table border=\"1\" class=\"dataframe\">\n",
       "  <thead>\n",
       "    <tr style=\"text-align: right;\">\n",
       "      <th></th>\n",
       "      <th>collision</th>\n",
       "      <th>no collision</th>\n",
       "    </tr>\n",
       "  </thead>\n",
       "  <tbody>\n",
       "    <tr>\n",
       "      <th>0</th>\n",
       "      <td>36</td>\n",
       "      <td>37</td>\n",
       "    </tr>\n",
       "  </tbody>\n",
       "</table>\n",
       "</div>"
      ],
      "text/plain": [
       "   collision  no collision\n",
       "0         36            37"
      ]
     },
     "metadata": {},
     "output_type": "display_data"
    }
   ],
   "source": [
    "root_dir='/media/thomasweng/manifolds/pybullet_eval/multirun'\n",
    "exp_name = '3obj_learned'\n",
    "exp_path = Path(f'{root_dir}/{exp_name}')\n",
    "exp_df, evals, htmls, mds = get_experiment_results(exp_path)\n",
    "# print_htmls_mds(htmls, mds)"
   ]
  },
  {
   "cell_type": "code",
   "execution_count": null,
   "id": "e234d02f",
   "metadata": {},
   "outputs": [],
   "source": [
    "eval_name = 'acronym'\n",
    "variant = 'GF_learned_newparams_ctrlpts'\n",
    "\n",
    "ims, df, collisions_list, collision_grasp_costs, no_collision_grasp_costs \\\n",
    "    = get_details(eval_name, variant, exp_df, success=False)\n",
    "plt.title(\"Number of collisions\")\n",
    "plt.hist(collisions_list, bins=50)\n",
    "plt.show()\n",
    "plt.title(\"Collision grasp costs\")\n",
    "plt.hist(collision_grasp_costs, bins=50)\n",
    "plt.show()\n",
    "plt.title(\"No collision grasp costs\")\n",
    "plt.hist(no_collision_grasp_costs, bins=50)\n",
    "plt.show()\n",
    "display(df)"
   ]
  },
  {
   "cell_type": "code",
   "execution_count": 36,
   "id": "fcc61a4c",
   "metadata": {},
   "outputs": [
    {
     "data": {
      "image/png": "[encoded data removed]",
      "text/plain": [
       "<Figure size 432x288 with 1 Axes>"
      ]
     },
     "metadata": {
      "needs_background": "light"
     },
     "output_type": "display_data"
    },
    {
     "data": {
      "image/png": "[encoded data removed]",
      "text/plain": [
       "<Figure size 432x288 with 1 Axes>"
      ]
     },
     "metadata": {
      "needs_background": "light"
     },
     "output_type": "display_data"
    },
    {
     "data": {
      "image/png": "[encoded data removed]",
      "text/plain": [
       "<Figure size 432x288 with 1 Axes>"
      ]
     },
     "metadata": {
      "needs_background": "light"
     },
     "output_type": "display_data"
    },
    {
     "data": {
      "text/html": [
       "<div>\n",
       "<style scoped>\n",
       "    .dataframe tbody tr th:only-of-type {\n",
       "        vertical-align: middle;\n",
       "    }\n",
       "\n",
       "    .dataframe tbody tr th {\n",
       "        vertical-align: top;\n",
       "    }\n",
       "\n",
       "    .dataframe thead th {\n",
       "        text-align: right;\n",
       "    }\n",
       "</style>\n",
       "<table border=\"1\" class=\"dataframe\">\n",
       "  <thead>\n",
       "    <tr style=\"text-align: right;\">\n",
       "      <th></th>\n",
       "      <th>collision</th>\n",
       "      <th>no collision</th>\n",
       "    </tr>\n",
       "  </thead>\n",
       "  <tbody>\n",
       "    <tr>\n",
       "      <th>0</th>\n",
       "      <td>5</td>\n",
       "      <td>12</td>\n",
       "    </tr>\n",
       "  </tbody>\n",
       "</table>\n",
       "</div>"
      ],
      "text/plain": [
       "   collision  no collision\n",
       "0          5            12"
      ]
     },
     "metadata": {},
     "output_type": "display_data"
    }
   ],
   "source": [
    "ims, df, collisions_list, collision_grasp_costs, no_collision_grasp_costs \\\n",
    "    = get_details(eval_name, variant, exp_df, success=True)\n",
    "plt.title(\"Number of collisions\")\n",
    "plt.hist(collisions_list, bins=50)\n",
    "plt.show()\n",
    "plt.title(\"Collision grasp costs\")\n",
    "plt.hist(collision_grasp_costs, bins=50)\n",
    "plt.show()\n",
    "plt.title(\"No collision grasp costs\")\n",
    "plt.hist(no_collision_grasp_costs, bins=50)\n",
    "plt.show()\n",
    "display(df)"
   ]
  },
  {
   "cell_type": "code",
   "execution_count": 55,
   "id": "b62354cf",
   "metadata": {},
   "outputs": [
    {
     "data": {
      "text/html": [
       "<div>\n",
       "<style scoped>\n",
       "    .dataframe tbody tr th:only-of-type {\n",
       "        vertical-align: middle;\n",
       "    }\n",
       "\n",
       "    .dataframe tbody tr th {\n",
       "        vertical-align: top;\n",
       "    }\n",
       "\n",
       "    .dataframe thead th {\n",
       "        text-align: right;\n",
       "    }\n",
       "</style>\n",
       "<table border=\"1\" class=\"dataframe\">\n",
       "  <thead>\n",
       "    <tr style=\"text-align: right;\">\n",
       "      <th></th>\n",
       "      <th>execution</th>\n",
       "      <th>planning</th>\n",
       "      <th>smoothness</th>\n",
       "      <th>collision</th>\n",
       "      <th>time</th>\n",
       "    </tr>\n",
       "    <tr>\n",
       "      <th>object_name</th>\n",
       "      <th></th>\n",
       "      <th></th>\n",
       "      <th></th>\n",
       "      <th></th>\n",
       "      <th></th>\n",
       "    </tr>\n",
       "  </thead>\n",
       "  <tbody>\n",
       "    <tr>\n",
       "      <th>Bottle_244894af3ba967ccd957eaf7f4edb205_0.012953570261294404</th>\n",
       "      <td>0.166667</td>\n",
       "      <td>0.683333</td>\n",
       "      <td>17.799481</td>\n",
       "      <td>0.011090</td>\n",
       "      <td>18.923248</td>\n",
       "    </tr>\n",
       "    <tr>\n",
       "      <th>Bowl_9a52843cc89cd208362be90aaa182ec6_0.0008104428339208306</th>\n",
       "      <td>0.075000</td>\n",
       "      <td>0.208333</td>\n",
       "      <td>72.105429</td>\n",
       "      <td>15.285154</td>\n",
       "      <td>24.869888</td>\n",
       "    </tr>\n",
       "    <tr>\n",
       "      <th>Mug_40f9a6cc6b2c3b3a78060a3a3a55e18f_0.0006670441940038386</th>\n",
       "      <td>0.008333</td>\n",
       "      <td>0.250000</td>\n",
       "      <td>58.361800</td>\n",
       "      <td>4.432094</td>\n",
       "      <td>23.451147</td>\n",
       "    </tr>\n",
       "  </tbody>\n",
       "</table>\n",
       "</div>"
      ],
      "text/plain": [
       "                                                    execution  planning  \\\n",
       "object_name                                                               \n",
       "Bottle_244894af3ba967ccd957eaf7f4edb205_0.01295...   0.166667  0.683333   \n",
       "Bowl_9a52843cc89cd208362be90aaa182ec6_0.0008104...   0.075000  0.208333   \n",
       "Mug_40f9a6cc6b2c3b3a78060a3a3a55e18f_0.00066704...   0.008333  0.250000   \n",
       "\n",
       "                                                    smoothness  collision  \\\n",
       "object_name                                                                 \n",
       "Bottle_244894af3ba967ccd957eaf7f4edb205_0.01295...   17.799481   0.011090   \n",
       "Bowl_9a52843cc89cd208362be90aaa182ec6_0.0008104...   72.105429  15.285154   \n",
       "Mug_40f9a6cc6b2c3b3a78060a3a3a55e18f_0.00066704...   58.361800   4.432094   \n",
       "\n",
       "                                                         time  \n",
       "object_name                                                    \n",
       "Bottle_244894af3ba967ccd957eaf7f4edb205_0.01295...  18.923248  \n",
       "Bowl_9a52843cc89cd208362be90aaa182ec6_0.0008104...  24.869888  \n",
       "Mug_40f9a6cc6b2c3b3a78060a3a3a55e18f_0.00066704...  23.451147  "
      ]
     },
     "metadata": {},
     "output_type": "display_data"
    },
    {
     "name": "stdout",
     "output_type": "stream",
     "text": [
      "| object_name                                                  |   execution |   planning |   smoothness |   collision |    time |\n",
      "|:-------------------------------------------------------------|------------:|-----------:|-------------:|------------:|--------:|\n",
      "| Bottle_244894af3ba967ccd957eaf7f4edb205_0.012953570261294404 |  0.166667   |   0.683333 |      17.7995 |   0.0110901 | 18.9232 |\n",
      "| Bowl_9a52843cc89cd208362be90aaa182ec6_0.0008104428339208306  |  0.075      |   0.208333 |      72.1054 |  15.2852    | 24.8699 |\n",
      "| Mug_40f9a6cc6b2c3b3a78060a3a3a55e18f_0.0006670441940038386   |  0.00833333 |   0.25     |      58.3618 |   4.43209   | 23.4511 |\n"
     ]
    }
   ],
   "source": [
    "obj_df = exp_df.drop(columns=['scene_idx']).groupby('object_name')\n",
    "display(obj_df.mean())\n",
    "print(obj_df.mean().to_markdown())"
   ]
  },
  {
   "cell_type": "markdown",
   "id": "797ff4ad",
   "metadata": {},
   "source": [
    "## Experiment: Scaling Logmaps More Finely"
   ]
  },
  {
   "cell_type": "code",
   "execution_count": 58,
   "id": "660efb58",
   "metadata": {},
   "outputs": [],
   "source": [
    "root_dir='/media/thomasweng/manifolds/pybullet_eval/multirun'\n",
    "exp_name = 'GF_lmscale_fine'\n",
    "exp_path = Path(f'{root_dir}/{exp_name}')\n",
    "exclude='Book_b1611143b4da5c783143cfc9128d0843_0.023835858278933857'\n",
    "exp_df, evals, htmls, mds = get_experiment_results(exp_path, exclude=exclude)\n",
    "# print_htmls_mds(htmls, mds)"
   ]
  },
  {
   "cell_type": "code",
   "execution_count": 39,
   "id": "e0a854b5",
   "metadata": {},
   "outputs": [
    {
     "data": {
      "image/png": "[encoded data removed]",
      "text/plain": [
       "<Figure size 432x288 with 1 Axes>"
      ]
     },
     "metadata": {
      "needs_background": "light"
     },
     "output_type": "display_data"
    },
    {
     "data": {
      "image/png": "[encoded data removed]",
      "text/plain": [
       "<Figure size 432x288 with 1 Axes>"
      ]
     },
     "metadata": {
      "needs_background": "light"
     },
     "output_type": "display_data"
    },
    {
     "data": {
      "image/png": "[encoded data removed]",
      "text/plain": [
       "<Figure size 432x288 with 1 Axes>"
      ]
     },
     "metadata": {
      "needs_background": "light"
     },
     "output_type": "display_data"
    },
    {
     "data": {
      "text/html": [
       "<div>\n",
       "<style scoped>\n",
       "    .dataframe tbody tr th:only-of-type {\n",
       "        vertical-align: middle;\n",
       "    }\n",
       "\n",
       "    .dataframe tbody tr th {\n",
       "        vertical-align: top;\n",
       "    }\n",
       "\n",
       "    .dataframe thead th {\n",
       "        text-align: right;\n",
       "    }\n",
       "</style>\n",
       "<table border=\"1\" class=\"dataframe\">\n",
       "  <thead>\n",
       "    <tr style=\"text-align: right;\">\n",
       "      <th></th>\n",
       "      <th>collision</th>\n",
       "      <th>no collision</th>\n",
       "    </tr>\n",
       "  </thead>\n",
       "  <tbody>\n",
       "    <tr>\n",
       "      <th>0</th>\n",
       "      <td>13</td>\n",
       "      <td>9</td>\n",
       "    </tr>\n",
       "  </tbody>\n",
       "</table>\n",
       "</div>"
      ],
      "text/plain": [
       "   collision  no collision\n",
       "0         13             9"
      ]
     },
     "metadata": {},
     "output_type": "display_data"
    }
   ],
   "source": [
    "eval_name = 'acronym'\n",
    "variant = 'GF_known_newparams-4.0'\n",
    "ims, df, collisions_list, collision_grasp_costs, no_collision_grasp_costs \\\n",
    "    = get_details(eval_name, variant, exp_df, success=False)\n",
    "plt.title(\"Number of collisions\")\n",
    "plt.hist(collisions_list, bins=50)\n",
    "plt.show()\n",
    "plt.title(\"Collision grasp costs\")\n",
    "plt.hist(collision_grasp_costs, bins=50)\n",
    "plt.show()\n",
    "plt.title(\"No collision grasp costs\")\n",
    "plt.hist(no_collision_grasp_costs, bins=50)\n",
    "plt.show()\n",
    "display(df)"
   ]
  },
  {
   "cell_type": "code",
   "execution_count": 40,
   "id": "1ee6fb2e",
   "metadata": {},
   "outputs": [
    {
     "data": {
      "image/png": "[encoded data removed]",
      "text/plain": [
       "<Figure size 432x288 with 1 Axes>"
      ]
     },
     "metadata": {
      "needs_background": "light"
     },
     "output_type": "display_data"
    },
    {
     "data": {
      "image/png": "[encoded data removed]",
      "text/plain": [
       "<Figure size 432x288 with 1 Axes>"
      ]
     },
     "metadata": {
      "needs_background": "light"
     },
     "output_type": "display_data"
    },
    {
     "data": {
      "image/png": "[encoded data removed]",
      "text/plain": [
       "<Figure size 432x288 with 1 Axes>"
      ]
     },
     "metadata": {
      "needs_background": "light"
     },
     "output_type": "display_data"
    },
    {
     "data": {
      "text/html": [
       "<div>\n",
       "<style scoped>\n",
       "    .dataframe tbody tr th:only-of-type {\n",
       "        vertical-align: middle;\n",
       "    }\n",
       "\n",
       "    .dataframe tbody tr th {\n",
       "        vertical-align: top;\n",
       "    }\n",
       "\n",
       "    .dataframe thead th {\n",
       "        text-align: right;\n",
       "    }\n",
       "</style>\n",
       "<table border=\"1\" class=\"dataframe\">\n",
       "  <thead>\n",
       "    <tr style=\"text-align: right;\">\n",
       "      <th></th>\n",
       "      <th>collision</th>\n",
       "      <th>no collision</th>\n",
       "    </tr>\n",
       "  </thead>\n",
       "  <tbody>\n",
       "    <tr>\n",
       "      <th>0</th>\n",
       "      <td>3</td>\n",
       "      <td>65</td>\n",
       "    </tr>\n",
       "  </tbody>\n",
       "</table>\n",
       "</div>"
      ],
      "text/plain": [
       "   collision  no collision\n",
       "0          3            65"
      ]
     },
     "metadata": {},
     "output_type": "display_data"
    }
   ],
   "source": [
    "ims, df, collisions_list, collision_grasp_costs, no_collision_grasp_costs \\\n",
    "    = get_details(eval_name, variant, exp_df, success=True)\n",
    "plt.title(\"Number of collisions\")\n",
    "plt.hist(collisions_list, bins=50)\n",
    "plt.show()\n",
    "plt.title(\"Collision grasp costs\")\n",
    "plt.hist(collision_grasp_costs, bins=50)\n",
    "plt.show()\n",
    "plt.title(\"No collision grasp costs\")\n",
    "plt.hist(no_collision_grasp_costs, bins=50)\n",
    "plt.show()\n",
    "display(df)"
   ]
  },
  {
   "cell_type": "code",
   "execution_count": 59,
   "id": "2208cb73",
   "metadata": {},
   "outputs": [
    {
     "data": {
      "text/html": [
       "<div>\n",
       "<style scoped>\n",
       "    .dataframe tbody tr th:only-of-type {\n",
       "        vertical-align: middle;\n",
       "    }\n",
       "\n",
       "    .dataframe tbody tr th {\n",
       "        vertical-align: top;\n",
       "    }\n",
       "\n",
       "    .dataframe thead th {\n",
       "        text-align: right;\n",
       "    }\n",
       "</style>\n",
       "<table border=\"1\" class=\"dataframe\">\n",
       "  <thead>\n",
       "    <tr style=\"text-align: right;\">\n",
       "      <th></th>\n",
       "      <th>execution</th>\n",
       "      <th>planning</th>\n",
       "      <th>smoothness</th>\n",
       "      <th>collision</th>\n",
       "      <th>time</th>\n",
       "    </tr>\n",
       "    <tr>\n",
       "      <th>object_name</th>\n",
       "      <th></th>\n",
       "      <th></th>\n",
       "      <th></th>\n",
       "      <th></th>\n",
       "      <th></th>\n",
       "    </tr>\n",
       "  </thead>\n",
       "  <tbody>\n",
       "    <tr>\n",
       "      <th>003_cracker_box</th>\n",
       "      <td>0.937500</td>\n",
       "      <td>0.006944</td>\n",
       "      <td>14.511347</td>\n",
       "      <td>18.827154</td>\n",
       "      <td>71.373763</td>\n",
       "    </tr>\n",
       "    <tr>\n",
       "      <th>004_sugar_box</th>\n",
       "      <td>0.930556</td>\n",
       "      <td>0.854167</td>\n",
       "      <td>19.281485</td>\n",
       "      <td>12.224483</td>\n",
       "      <td>21.567697</td>\n",
       "    </tr>\n",
       "    <tr>\n",
       "      <th>005_tomato_soup_can</th>\n",
       "      <td>0.409091</td>\n",
       "      <td>0.000000</td>\n",
       "      <td>13.239246</td>\n",
       "      <td>51.268546</td>\n",
       "      <td>73.747059</td>\n",
       "    </tr>\n",
       "    <tr>\n",
       "      <th>006_mustard_bottle</th>\n",
       "      <td>0.625000</td>\n",
       "      <td>0.339286</td>\n",
       "      <td>26.550259</td>\n",
       "      <td>67.047091</td>\n",
       "      <td>54.670210</td>\n",
       "    </tr>\n",
       "    <tr>\n",
       "      <th>019_pitcher_base</th>\n",
       "      <td>0.779412</td>\n",
       "      <td>0.389706</td>\n",
       "      <td>9.613743</td>\n",
       "      <td>16.735755</td>\n",
       "      <td>47.345551</td>\n",
       "    </tr>\n",
       "    <tr>\n",
       "      <th>021_bleach_cleanser</th>\n",
       "      <td>0.795455</td>\n",
       "      <td>0.602273</td>\n",
       "      <td>33.039401</td>\n",
       "      <td>20.446112</td>\n",
       "      <td>47.847687</td>\n",
       "    </tr>\n",
       "    <tr>\n",
       "      <th>Bottle_244894af3ba967ccd957eaf7f4edb205_0.012953570261294404</th>\n",
       "      <td>0.916667</td>\n",
       "      <td>0.937500</td>\n",
       "      <td>9.084710</td>\n",
       "      <td>0.018541</td>\n",
       "      <td>30.395925</td>\n",
       "    </tr>\n",
       "    <tr>\n",
       "      <th>Bowl_9a52843cc89cd208362be90aaa182ec6_0.0008104428339208306</th>\n",
       "      <td>0.570833</td>\n",
       "      <td>0.766667</td>\n",
       "      <td>8.076568</td>\n",
       "      <td>4.478660</td>\n",
       "      <td>34.180699</td>\n",
       "    </tr>\n",
       "    <tr>\n",
       "      <th>Mug_40f9a6cc6b2c3b3a78060a3a3a55e18f_0.0006670441940038386</th>\n",
       "      <td>0.683333</td>\n",
       "      <td>0.691667</td>\n",
       "      <td>9.412979</td>\n",
       "      <td>1.170840</td>\n",
       "      <td>38.397377</td>\n",
       "    </tr>\n",
       "  </tbody>\n",
       "</table>\n",
       "</div>"
      ],
      "text/plain": [
       "                                                    execution  planning  \\\n",
       "object_name                                                               \n",
       "003_cracker_box                                      0.937500  0.006944   \n",
       "004_sugar_box                                        0.930556  0.854167   \n",
       "005_tomato_soup_can                                  0.409091  0.000000   \n",
       "006_mustard_bottle                                   0.625000  0.339286   \n",
       "019_pitcher_base                                     0.779412  0.389706   \n",
       "021_bleach_cleanser                                  0.795455  0.602273   \n",
       "Bottle_244894af3ba967ccd957eaf7f4edb205_0.01295...   0.916667  0.937500   \n",
       "Bowl_9a52843cc89cd208362be90aaa182ec6_0.0008104...   0.570833  0.766667   \n",
       "Mug_40f9a6cc6b2c3b3a78060a3a3a55e18f_0.00066704...   0.683333  0.691667   \n",
       "\n",
       "                                                    smoothness  collision  \\\n",
       "object_name                                                                 \n",
       "003_cracker_box                                      14.511347  18.827154   \n",
       "004_sugar_box                                        19.281485  12.224483   \n",
       "005_tomato_soup_can                                  13.239246  51.268546   \n",
       "006_mustard_bottle                                   26.550259  67.047091   \n",
       "019_pitcher_base                                      9.613743  16.735755   \n",
       "021_bleach_cleanser                                  33.039401  20.446112   \n",
       "Bottle_244894af3ba967ccd957eaf7f4edb205_0.01295...    9.084710   0.018541   \n",
       "Bowl_9a52843cc89cd208362be90aaa182ec6_0.0008104...    8.076568   4.478660   \n",
       "Mug_40f9a6cc6b2c3b3a78060a3a3a55e18f_0.00066704...    9.412979   1.170840   \n",
       "\n",
       "                                                         time  \n",
       "object_name                                                    \n",
       "003_cracker_box                                     71.373763  \n",
       "004_sugar_box                                       21.567697  \n",
       "005_tomato_soup_can                                 73.747059  \n",
       "006_mustard_bottle                                  54.670210  \n",
       "019_pitcher_base                                    47.345551  \n",
       "021_bleach_cleanser                                 47.847687  \n",
       "Bottle_244894af3ba967ccd957eaf7f4edb205_0.01295...  30.395925  \n",
       "Bowl_9a52843cc89cd208362be90aaa182ec6_0.0008104...  34.180699  \n",
       "Mug_40f9a6cc6b2c3b3a78060a3a3a55e18f_0.00066704...  38.397377  "
      ]
     },
     "metadata": {},
     "output_type": "display_data"
    },
    {
     "name": "stdout",
     "output_type": "stream",
     "text": [
      "| object_name                                                  |   execution |   planning |   smoothness |   collision |    time |\n",
      "|:-------------------------------------------------------------|------------:|-----------:|-------------:|------------:|--------:|\n",
      "| 003_cracker_box                                              |    0.9375   | 0.00694444 |     14.5113  |  18.8272    | 71.3738 |\n",
      "| 004_sugar_box                                                |    0.930556 | 0.854167   |     19.2815  |  12.2245    | 21.5677 |\n",
      "| 005_tomato_soup_can                                          |    0.409091 | 0          |     13.2392  |  51.2685    | 73.7471 |\n",
      "| 006_mustard_bottle                                           |    0.625    | 0.339286   |     26.5503  |  67.0471    | 54.6702 |\n",
      "| 019_pitcher_base                                             |    0.779412 | 0.389706   |      9.61374 |  16.7358    | 47.3456 |\n",
      "| 021_bleach_cleanser                                          |    0.795455 | 0.602273   |     33.0394  |  20.4461    | 47.8477 |\n",
      "| Bottle_244894af3ba967ccd957eaf7f4edb205_0.012953570261294404 |    0.916667 | 0.9375     |      9.08471 |   0.0185411 | 30.3959 |\n",
      "| Bowl_9a52843cc89cd208362be90aaa182ec6_0.0008104428339208306  |    0.570833 | 0.766667   |      8.07657 |   4.47866   | 34.1807 |\n",
      "| Mug_40f9a6cc6b2c3b3a78060a3a3a55e18f_0.0006670441940038386   |    0.683333 | 0.691667   |      9.41298 |   1.17084   | 38.3974 |\n"
     ]
    }
   ],
   "source": [
    "obj_df = exp_df.drop(columns=['scene_idx']).groupby('object_name')\n",
    "display(obj_df.mean())\n",
    "print(obj_df.mean().to_markdown())"
   ]
  },
  {
   "cell_type": "code",
   "execution_count": null,
   "id": "ddad6231",
   "metadata": {},
   "outputs": [],
   "source": []
  }
 ],
 "metadata": {
  "kernelspec": {
   "display_name": "Python 3 (ipykernel)",
   "language": "python",
   "name": "python3"
  },
  "language_info": {
   "codemirror_mode": {
    "name": "ipython",
    "version": 3
   },
   "file_extension": ".py",
   "mimetype": "text/x-python",
   "name": "python",
   "nbconvert_exporter": "python",
   "pygments_lexer": "ipython3",
   "version": "3.7.9"
  }
 },
 "nbformat": 4,
 "nbformat_minor": 5
}
