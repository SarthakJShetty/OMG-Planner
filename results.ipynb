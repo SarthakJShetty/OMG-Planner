{
 "cells": [
  {
   "cell_type": "code",
   "execution_count": 2,
   "id": "prostate-speed",
   "metadata": {},
   "outputs": [],
   "source": [
    "import os\n",
    "import numpy as np\n",
    "import matplotlib.pyplot as plt"
   ]
  },
  {
   "cell_type": "markdown",
   "id": "974c336d",
   "metadata": {},
   "source": [
    "# Analyzing ACRONYM data"
   ]
  },
  {
   "cell_type": "code",
   "execution_count": 46,
   "id": "e9403918",
   "metadata": {},
   "outputs": [
    {
     "name": "stdout",
     "output_type": "stream",
     "text": [
      "both true 240\n",
      "flex true 1139\n",
      "bullet true 247\n",
      "true bullet positives over flex positives: 0.211\n",
      "true bullet positives over all positives: 0.972\n",
      "both false 854\n",
      "flex false 861\n",
      "bullet false 1753\n",
      "true bullet negatives over flex negatives: 0.992\n",
      "true bullet negatives over all negatives: 0.487\n"
     ]
    }
   ],
   "source": [
    "import pandas as pd\n",
    "import numpy as np\n",
    "\n",
    "# path = '/data/manifolds/acronym/bullet_grasps/fullrun_grasps.csv'\n",
    "path = '/data/manifolds/acronym/bullet_grasps/grasps.csv'\n",
    "\n",
    "df = pd.read_csv(path)\n",
    "# print(df)\n",
    "both_true = df.query('flex_success==1 & pybullet_success==1')\n",
    "print(\"both true\", len(both_true))\n",
    "flex_true = df.query('flex_success==1')\n",
    "print(\"flex true\", len(flex_true))\n",
    "bullet_true = df.query('pybullet_success==1')\n",
    "print(\"bullet true\", len(bullet_true))\n",
    "\n",
    "print(f\"true bullet positives over flex positives: {len(both_true) / len(flex_true):.3f}\")\n",
    "print(f\"true bullet positives over all positives: {len(both_true) / len(bullet_true):.3f}\")\n",
    "\n",
    "both_false = df.query('flex_success==0 & pybullet_success==0')\n",
    "print(\"both false\", len(both_false))\n",
    "flex_false = df.query('flex_success==0')\n",
    "print(\"flex false\", len(flex_false))\n",
    "bullet_false = df.query('pybullet_success==0')\n",
    "print(\"bullet false\", len(bullet_false))\n",
    "\n",
    "print(f\"true bullet negatives over flex negatives: {len(both_false) / len(flex_false):.3f}\")\n",
    "print(f\"true bullet negatives over all negatives: {len(both_false) / len(bullet_false):.3f}\")\n",
    "\n"
   ]
  },
  {
   "cell_type": "code",
   "execution_count": 47,
   "id": "3a2e5b2d",
   "metadata": {},
   "outputs": [
    {
     "name": "stdout",
     "output_type": "stream",
     "text": [
      "Error reason\n",
      "grasp     1740\n",
      "linear      13\n",
      "Name: err_info, dtype: int64\n"
     ]
    }
   ],
   "source": [
    "print(\"Error reason\")\n",
    "print(df.loc[:, 'err_info'].value_counts())"
   ]
  },
  {
   "cell_type": "markdown",
   "id": "38a8621c",
   "metadata": {},
   "source": [
    "# Analyzing planning trials"
   ]
  },
  {
   "cell_type": "code",
   "execution_count": 12,
   "id": "pregnant-providence",
   "metadata": {},
   "outputs": [
    {
     "name": "stdout",
     "output_type": "stream",
     "text": [
      "10 runs\n",
      "0.15+/-0.04\n",
      "0.95+/-0.02\n",
      "14.33+/-0.64\n",
      "20.87+/-4.52\n",
      "2.37+/-0.05\n",
      "To do: formatting; save/print the runs used\n"
     ]
    }
   ],
   "source": [
    "exp_suffix = 'infgrasps_OMG'\n",
    "\n",
    "out_path = '/home/exx/projects/manifolds/OMG-Planner/output_videos/'\n",
    "\n",
    "exp_paths = []\n",
    "for date_path in os.listdir(out_path):\n",
    "    if 'dbg' in date_path or 'old_runs' in date_path:\n",
    "        continue\n",
    "    for exp_path in os.listdir(f'{out_path}/{date_path}'):\n",
    "        if exp_suffix in exp_path:\n",
    "            exp_paths.append(f'{out_path}/{date_path}/{exp_path}')\n",
    "\n",
    "if len(exp_paths) != 10:\n",
    "    print(f\"Warning: {len(exp_paths)} total runs for {exp_suffix}: {len(exp_paths)}\")\n",
    "else:\n",
    "    print(\"10 runs\")\n",
    "\n",
    "runs_metrics = {\n",
    "    'exec': [],\n",
    "    'plan': [],\n",
    "    'smth': [],\n",
    "    'coll': [],\n",
    "    'time': []\n",
    "}\n",
    "for exp_path in exp_paths:\n",
    "    scene_paths = sorted(os.listdir(exp_path), key=lambda x: int(x.split('_')[1]))\n",
    "    if len(scene_paths) < 100:\n",
    "        print(f\"Skipping {exp_path}\")\n",
    "        continue\n",
    "\n",
    "    exp_metrics = {\n",
    "        'exec': [],\n",
    "        'plan': [],\n",
    "        'smth': [],\n",
    "        'coll': [],\n",
    "        'time': [],\n",
    "    }\n",
    "    for i, scene_path in enumerate(scene_paths):\n",
    "        try:\n",
    "            data = np.load(f'{exp_path}/{scene_path}/data.npy', allow_pickle=True, encoding='latin1')\n",
    "        except Exception as e:\n",
    "            print(e)\n",
    "            print(f\"Stopping early at {i}\")\n",
    "            break\n",
    "        rew, info, _ = data\n",
    "        exp_metrics['exec'].append(rew)\n",
    "        exp_metrics['plan'].append(1 if info[-1]['terminate'] else 0)\n",
    "        exp_metrics['smth'].append(info[-1]['smooth'])\n",
    "        exp_metrics['coll'].append(info[-1]['obs'])\n",
    "        exp_metrics['time'].append(info[-1]['time'])\n",
    "#     print(exp_metrics['time'])\n",
    "    runs_metrics['exec'].append(np.mean(exp_metrics['exec']))\n",
    "    runs_metrics['plan'].append(np.mean(exp_metrics['plan']))\n",
    "    runs_metrics['smth'].append(np.mean(exp_metrics['smth']))\n",
    "    runs_metrics['coll'].append(np.mean(exp_metrics['coll']))\n",
    "    runs_metrics['time'].append(np.mean(exp_metrics['time']))\n",
    "mean_exec = np.mean(runs_metrics['exec'])\n",
    "mean_plan = np.mean(runs_metrics['plan'])\n",
    "mean_smth = np.mean(runs_metrics['smth'])\n",
    "mean_coll = np.mean(runs_metrics['coll'])\n",
    "mean_time = np.mean(runs_metrics['time'])\n",
    "print(f'{mean_exec:.2f}+/-{np.std(runs_metrics[\"exec\"]):.2f}')\n",
    "print(f'{mean_plan:.2f}+/-{np.std(runs_metrics[\"plan\"]):.2f}')\n",
    "print(f'{mean_smth:.2f}+/-{np.std(runs_metrics[\"smth\"]):.2f}')\n",
    "print(f'{mean_coll:.2f}+/-{np.std(runs_metrics[\"coll\"]):.2f}')\n",
    "print(f'{mean_time:.2f}+/-{np.std(runs_metrics[\"time\"]):.2f}')\n",
    "\n",
    "print(\"To do: formatting; save/print the runs used\")"
   ]
  }
 ],
 "metadata": {
  "kernelspec": {
   "display_name": "Python 3",
   "language": "python",
   "name": "python3"
  },
  "language_info": {
   "codemirror_mode": {
    "name": "ipython",
    "version": 3
   },
   "file_extension": ".py",
   "mimetype": "text/x-python",
   "name": "python",
   "nbconvert_exporter": "python",
   "pygments_lexer": "ipython3",
   "version": "3.6.9"
  }
 },
 "nbformat": 4,
 "nbformat_minor": 5
}
