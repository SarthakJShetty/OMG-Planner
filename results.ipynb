{
 "cells": [
  {
   "cell_type": "code",
   "execution_count": 10,
   "id": "sustained-transcription",
   "metadata": {},
   "outputs": [],
   "source": [
    "import os\n",
    "import numpy as np\n",
    "import matplotlib.pyplot as plt"
   ]
  },
  {
   "cell_type": "code",
   "execution_count": 22,
   "id": "infinite-sellers",
   "metadata": {},
   "outputs": [
    {
     "name": "stdout",
     "output_type": "stream",
     "text": [
      "[Errno 2] No such file or directory: '/home/exx/projects/manifolds/OMG-Planner/output_videos/2021-07-12/15-24-17_knowngrasps/scene_90/data.npy'\n",
      "Stopping early at 90\n"
     ]
    }
   ],
   "source": [
    "exp_path = '/home/exx/projects/manifolds/OMG-Planner/output_videos/2021-07-12/15-24-17_knowngrasps'\n",
    "\n",
    "# TODO Check that dir has all scenes and data\n",
    "\n",
    "scene_paths = sorted(os.listdir(exp_path))\n",
    "\n",
    "execution = []\n",
    "planning = []\n",
    "smoothness = []\n",
    "collision = []\n",
    "timing = []\n",
    "for i, scene_path in enumerate(scene_paths):\n",
    "    try:\n",
    "        data = np.load(f'{exp_path}/{scene_path}/data.npy', allow_pickle=True, encoding='latin1')\n",
    "    except Exception as e:\n",
    "        print(e)\n",
    "        print(f\"Stopping early at {i}\")\n",
    "        break\n",
    "    rew, info, _ = data\n",
    "    execution.append(rew)\n",
    "    planning.append(1 if info[-1]['terminate'] else 0)\n",
    "    smoothness.append(info[-1]['smooth'])\n",
    "    collision.append(info[-1]['obs'])\n",
    "    timing.append(info[-1]['time'])"
   ]
  },
  {
   "cell_type": "code",
   "execution_count": 23,
   "id": "flexible-investment",
   "metadata": {},
   "outputs": [],
   "source": [
    "mean_execution = np.mean(execution)\n",
    "mean_planning = np.mean(planning)\n",
    "mean_smoothness = np.mean(smoothness)\n",
    "mean_collision = np.mean(collision)\n",
    "mean_timing = np.mean(timing)"
   ]
  },
  {
   "cell_type": "code",
   "execution_count": 24,
   "id": "ordered-stake",
   "metadata": {},
   "outputs": [
    {
     "name": "stdout",
     "output_type": "stream",
     "text": [
      "Execution: 0.9444444444444444\n",
      "Planning: 0.9555555555555556\n",
      "Smoothness: 13.440860997340716\n",
      "Collision: 10.762270219313104\n",
      "Timing: 0.176938263575236\n"
     ]
    }
   ],
   "source": [
    "print(f'Execution: {mean_execution}')\n",
    "print(f'Planning: {mean_planning}')\n",
    "print(f'Smoothness: {mean_smoothness}')\n",
    "print(f'Collision: {mean_collision}')\n",
    "print(f'Timing: {mean_timing}')"
   ]
  },
  {
   "cell_type": "code",
   "execution_count": null,
   "id": "obvious-perth",
   "metadata": {},
   "outputs": [],
   "source": []
  }
 ],
 "metadata": {
  "kernelspec": {
   "display_name": "Python 3",
   "language": "python",
   "name": "python3"
  },
  "language_info": {
   "codemirror_mode": {
    "name": "ipython",
    "version": 3
   },
   "file_extension": ".py",
   "mimetype": "text/x-python",
   "name": "python",
   "nbconvert_exporter": "python",
   "pygments_lexer": "ipython3",
   "version": "3.6.13"
  }
 },
 "nbformat": 4,
 "nbformat_minor": 5
}
